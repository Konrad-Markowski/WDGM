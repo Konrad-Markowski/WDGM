{
 "cells": [
  {
   "cell_type": "code",
   "execution_count": 7,
   "metadata": {},
   "outputs": [],
   "source": [
    "import numpy as np\n",
    "from PIL import Image\n",
    "\n",
    "def szary(w, h):\n",
    "    return np.array([[( -3 * i + j) % 256 for j in range(w)] for i in range(h)], dtype=np.uint8)\n",
    "\n",
    "obraz11 = Image.open(\"obraz11.jpg\")\n",
    "w, h = obraz11.size\n",
    "szary_obraz = szary(w, h)\n",
    "szary_image = Image.fromarray(szary_obraz)\n",
    "\n",
    "obraz11 = obraz11.convert('RGB')\n",
    "r, g, b = obraz11.split()\n",
    "g = szary_image\n",
    "wynikowy_obraz = Image.merge('RGB', (r, g, b))\n",
    "\n",
    "wynikowy_obraz.save(\"mix.png\")\n",
    "\n",
    "wynikowy_obraz.show()\n"
   ]
  }
 ],
 "metadata": {
  "kernelspec": {
   "display_name": "Python 3",
   "language": "python",
   "name": "python3"
  },
  "language_info": {
   "codemirror_mode": {
    "name": "ipython",
    "version": 3
   },
   "file_extension": ".py",
   "mimetype": "text/x-python",
   "name": "python",
   "nbconvert_exporter": "python",
   "pygments_lexer": "ipython3",
   "version": "3.12.2"
  }
 },
 "nbformat": 4,
 "nbformat_minor": 2
}
