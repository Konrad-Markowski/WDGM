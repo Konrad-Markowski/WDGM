{
 "cells": [
  {
   "cell_type": "code",
   "execution_count": 353,
   "metadata": {},
   "outputs": [],
   "source": [
    "import numpy as np\n",
    "from PIL import Image"
   ]
  },
  {
   "cell_type": "code",
   "execution_count": 354,
   "metadata": {},
   "outputs": [],
   "source": [
    "def rysuj_ramke_w_obrazie(obraz, grub):\n",
    "\n",
    "    tab_obraz = np.asarray(obraz).astype(np.uint8)\n",
    "    h, w = tab_obraz.shape\n",
    "    \n",
    "    #rysowanie czarnej ramki o podanej grubości\n",
    "    for i in range(grub):  #górna i dolna ramka\n",
    "        tab_obraz[i, :] = 0\n",
    "        tab_obraz[h - i - 1, :] = 0\n",
    "\n",
    "    for j in range(grub):  #lewa i prawa ramka\n",
    "        tab_obraz[:, j] = 0\n",
    "        tab_obraz[:, w - j - 1] = 0 \n",
    "\n",
    "    tab_obraz_bool = tab_obraz.astype(bool)\n",
    "    return Image.fromarray(tab_obraz_bool)"
   ]
  },
  {
   "cell_type": "code",
   "execution_count": 355,
   "metadata": {},
   "outputs": [
    {
     "data": {
      "image/jpeg": "[encoded data removed]",
      "image/png": "[encoded data removed]",
      "text/plain": [
       "<PIL.Image.Image image mode=1 size=100x50>"
      ]
     },
     "execution_count": 355,
     "metadata": {},
     "output_type": "execute_result"
    }
   ],
   "source": [
    "obraz = Image.open('inicjaly.bmp')\n",
    "rysuj_ramke_w_obrazie(obraz,10)"
   ]
  },
  {
   "cell_type": "code",
   "execution_count": 356,
   "metadata": {},
   "outputs": [],
   "source": [
    "def rysuj_ramki(w, h, grub):\n",
    "    tab = np.ones((h, w), dtype=np.uint8)\n",
    "    \n",
    "    for i in range(0, min(w, h) // 2, grub * 2):\n",
    "        tab[i:h-i, i:i+grub] = 0  #lewa\n",
    "        tab[i:h-i, w-i-grub:w-i] = 0  #prawa\n",
    "        tab[i:i+grub, i:w-i] = 0  #gorna\n",
    "        tab[h-i-grub:h-i, i:w-i] = 0  #dolna\n",
    "\n",
    "    return Image.fromarray(tab.astype(bool))\n"
   ]
  },
  {
   "cell_type": "code",
   "execution_count": 357,
   "metadata": {},
   "outputs": [
    {
     "data": {
      "image/jpeg": "[encoded data removed]",
      "image/png": "[encoded data removed]",
      "text/plain": [
       "<PIL.Image.Image image mode=1 size=100x50>"
      ]
     },
     "execution_count": 357,
     "metadata": {},
     "output_type": "execute_result"
    }
   ],
   "source": [
    "rysuj_ramki(100,50,5)"
   ]
  },
  {
   "cell_type": "code",
   "execution_count": 358,
   "metadata": {},
   "outputs": [],
   "source": [
    "def rysuj_pasy_pionowe(w, h, grub):\n",
    "    tab = np.ones((h, w), dtype=np.uint8)\n",
    "\n",
    "    for j in range(0, w, 2 * grub):\n",
    "        tab[:, j:j + grub] = 0 \n",
    "\n",
    "    return Image.fromarray(tab.astype(bool))\n",
    "\n"
   ]
  },
  {
   "cell_type": "code",
   "execution_count": 359,
   "metadata": {},
   "outputs": [
    {
     "data": {
      "image/jpeg": "[encoded data removed]",
      "image/png": "[encoded data removed]",
      "text/plain": [
       "<PIL.Image.Image image mode=1 size=100x50>"
      ]
     },
     "execution_count": 359,
     "metadata": {},
     "output_type": "execute_result"
    }
   ],
   "source": [
    "rysuj_pasy_pionowe(100,50,10)"
   ]
  },
  {
   "cell_type": "code",
   "execution_count": 360,
   "metadata": {},
   "outputs": [],
   "source": [
    "#Funkcja rysująca kwadraty na obrazie o podanym wymiarach: grub x grub \n",
    "def rysuj_wlasne(w, h, grub):\n",
    "    tab = np.ones((h, w), dtype=np.uint8)\n",
    "\n",
    "    # Rysowanie szachownicy\n",
    "    for i in range(0, h, grub):\n",
    "        for j in range(0, w, grub):\n",
    "            # Sprawdzenie, jaki kolor ma mieć kwadrat w szachownicy\n",
    "            if (i // grub) % 2 == (j // grub) % 2:\n",
    "                tab[i:i + grub, j:j + grub] = 0\n",
    "\n",
    "    return Image.fromarray(tab.astype(bool))"
   ]
  },
  {
   "cell_type": "code",
   "execution_count": 361,
   "metadata": {},
   "outputs": [
    {
     "data": {
      "image/jpeg": "[encoded data removed]",
      "image/png": "[encoded data removed]",
      "text/plain": [
       "<PIL.Image.Image image mode=1 size=200x200>"
      ]
     },
     "execution_count": 361,
     "metadata": {},
     "output_type": "execute_result"
    }
   ],
   "source": [
    "rysuj_wlasne(200,200,20)"
   ]
  },
  {
   "cell_type": "code",
   "execution_count": 362,
   "metadata": {},
   "outputs": [],
   "source": [
    "def wstaw_obraz_w_obraz(obraz_bazowy, obraz_wstawiany, m, n):\n",
    "\n",
    "    tab_bazowa = np.asarray(obraz_bazowy).astype(np.uint8)\n",
    "    tab_wstawiana = np.asarray(obraz_wstawiany).astype(np.uint8)\n",
    "    \n",
    "    h_bazowa, w_bazowa = tab_bazowa.shape\n",
    "    h_wstawiana, w_wstawiana = tab_wstawiana.shape\n",
    "    \n",
    "    tab = np.copy(tab_bazowa)\n",
    "    \n",
    "    # Obliczanie zakresów wstawiania\n",
    "    n_k = min(h_bazowa, n + h_wstawiana)\n",
    "    m_k = min(w_bazowa, m + w_wstawiana)\n",
    "    n_p = max(0, n) \n",
    "    m_p = max(0, m) \n",
    "    \n",
    "    # Przesunięcia dla tavlicy wstawianego obrazu (bierzemy poprawki na n i m)\n",
    "    n_przesuniecie = n_p - n\n",
    "    m_przesuniecie = m_p - m\n",
    "    \n",
    "    # Wstawianie obrazu w zakresach które wcześniej zostały obliczone\n",
    "    for i in range(n_p, n_k):\n",
    "        for j in range(m_p, m_k):\n",
    "            tab[i, j] = tab_wstawiana[i - n + n_przesuniecie, j - m + m_przesuniecie]\n",
    "    \n",
    "\n",
    "    tab = tab.astype(bool)\n",
    "    \n",
    "    return Image.fromarray(tab)"
   ]
  },
  {
   "cell_type": "code",
   "execution_count": 363,
   "metadata": {},
   "outputs": [
    {
     "data": {
      "image/jpeg": "[encoded data removed]",
      "image/png": "[encoded data removed]",
      "text/plain": [
       "<PIL.Image.Image image mode=1 size=200x150>"
      ]
     },
     "execution_count": 363,
     "metadata": {},
     "output_type": "execute_result"
    }
   ],
   "source": [
    "obraz_bazowy = rysuj_pasy_pionowe(200,150,5)\n",
    "obraz_wstawiany = Image.open('inicjaly.bmp')\n",
    "\n",
    "wstaw_obraz_w_obraz(obraz_bazowy, obraz_wstawiany, 50, 50)"
   ]
  }
 ],
 "metadata": {
  "kernelspec": {
   "display_name": "Python 3",
   "language": "python",
   "name": "python3"
  },
  "language_info": {
   "codemirror_mode": {
    "name": "ipython",
    "version": 3
   },
   "file_extension": ".py",
   "mimetype": "text/x-python",
   "name": "python",
   "nbconvert_exporter": "python",
   "pygments_lexer": "ipython3",
   "version": "3.12.2"
  }
 },
 "nbformat": 4,
 "nbformat_minor": 2
}
